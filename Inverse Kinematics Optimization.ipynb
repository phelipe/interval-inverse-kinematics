{
 "cells": [
  {
   "cell_type": "markdown",
   "metadata": {},
   "source": [
    "Packages needed:\n",
    "\n",
    "    * RigidBodyDynamics\n",
    "    * MeshCatMechanisms\n",
    "    * Optim\n",
    "    * IntervalOptimisation\n",
    "    * IntervalArithmetic"
   ]
  },
  {
   "cell_type": "code",
   "execution_count": null,
   "metadata": {},
   "outputs": [],
   "source": [
    "using RigidBodyDynamics\n",
    "using MeshCatMechanisms"
   ]
  },
  {
   "cell_type": "code",
   "execution_count": null,
   "metadata": {},
   "outputs": [],
   "source": [
    "# Load the description of the mechanism from its URDF file \n",
    "urdf = \"kuka_iiwa.urdf\"\n",
    "mechanism = parse_urdf(Float64, urdf)\n",
    "\n",
    "# Create a visualizer to show the basic joint skeleton\n",
    "# and mass distribution of the robot, and open it in a \n",
    "# new browser tab\n",
    "vis = MechanismVisualizer(mechanism, Skeleton(randomize_colors=true))\n",
    "open(vis)"
   ]
  },
  {
   "cell_type": "code",
   "execution_count": null,
   "metadata": {},
   "outputs": [],
   "source": [
    "# Given a mechanism, a point located somewhere on that mechanism,\n",
    "# and a target point (on that mechanism or fixed in the world),\n",
    "# create a cost function which maps the configuration vector\n",
    "# of the robot (the position of every joint) to the distance\n",
    "# from the given point to the target\n",
    "function inverse_kinematics_problem(mechanism::Mechanism, \n",
    "        point_on_body::Point3D, target::Point3D)\n",
    "    let statecache = StateCache(mechanism), point = point_on_body, target = target\n",
    "        function cost(configuration)\n",
    "            state = statecache[eltype(configuration)]\n",
    "            set_configuration!(state, configuration)\n",
    "            error = transform(state, point_on_body, target.frame) - target\n",
    "            norm(error.v)\n",
    "        end\n",
    "    end\n",
    "end"
   ]
  },
  {
   "cell_type": "code",
   "execution_count": null,
   "metadata": {},
   "outputs": [],
   "source": [
    "# Create a point on the `iiwa_link_ee` body (the end of the arm)\n",
    "point = Point3D(default_frame(findbody(mechanism, \"iiwa_link_ee\")), 0., 0, 0)\n",
    "# Create a target location in world frame\n",
    "target = Point3D(root_frame(mechanism), 0.5, 0.5, 0.5)\n",
    "\n",
    "# Visualize both points as small spheres in the 3D viewer\n",
    "setelement!(vis, point, 0.01)\n",
    "setelement!(vis, target, 0.02)\n",
    "\n",
    "# Create the cost function\n",
    "cost = inverse_kinematics_problem(mechanism, point, target)"
   ]
  },
  {
   "cell_type": "code",
   "execution_count": null,
   "metadata": {},
   "outputs": [],
   "source": [
    "# First, let's get a (potentially local) optimal solution with Optim\n",
    "using Optim\n",
    "\n",
    "N = num_positions(mechanism) # number of joint position variables\n",
    "f = Optim.OnceDifferentiable(cost, zeros(N), autodiff=:forward)\n",
    "result = Optim.optimize(f, zeros(N), BFGS())"
   ]
  },
  {
   "cell_type": "code",
   "execution_count": null,
   "metadata": {},
   "outputs": [],
   "source": [
    "# Render the robot at the resulting configuration. The tip of the arm\n",
    "# should match the target pose\n",
    "set_configuration!(vis, Optim.minimizer(result))"
   ]
  },
  {
   "cell_type": "code",
   "execution_count": null,
   "metadata": {},
   "outputs": [],
   "source": [
    "# Now do the same thing with IntervalOptimisation\n",
    "using IntervalOptimisation, IntervalArithmetic"
   ]
  },
  {
   "cell_type": "code",
   "execution_count": null,
   "metadata": {},
   "outputs": [],
   "source": [
    "r = IntervalOptimisation.minimize(cost, \n",
    "    IntervalBox(-10..10, N),\n",
    "    1e-2)"
   ]
  }
 ],
 "metadata": {
  "kernelspec": {
   "display_name": "Julia 0.6.4",
   "language": "julia",
   "name": "julia-0.6"
  },
  "language_info": {
   "file_extension": ".jl",
   "mimetype": "application/julia",
   "name": "julia",
   "version": "0.6.4"
  }
 },
 "nbformat": 4,
 "nbformat_minor": 2
}
